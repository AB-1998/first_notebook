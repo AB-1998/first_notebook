{
 "cells": [
  {
   "cell_type": "markdown",
   "id": "d467f3aa-59ba-4114-8e36-cdbbff767ed1",
   "metadata": {},
   "source": [
    "<h1>Data Science Tools and Ecosystem<h1/>"
   ]
  },
  {
   "cell_type": "markdown",
   "id": "687b3d9b-38bb-4c85-b6f3-51c66f9a5b3c",
   "metadata": {},
   "source": [
    "<h4>In this notebook, Data Science Tools and Ecosystem are summarized<h4/>"
   ]
  },
  {
   "cell_type": "markdown",
   "id": "443ecf9e-e137-44cb-bc15-27714381677a",
   "metadata": {},
   "source": [
    "<h4>Some of the popular languages that Data Scientists use are:<h4/>\n",
    "    <ol>\n",
    "        <li>python</li>\n",
    "        <li>sql</li>\n",
    "        <li>R</li>\n",
    "        </ol>\n",
    "    <strong>Objectives:</strong>\n",
    "    <ul>\n",
    "        <li>tools of data science</li>\n",
    "        <li>jupter</li>\n",
    "        <li>dataset</li>\n",
    "    </ul>\n",
    "    "
   ]
  },
  {
   "cell_type": "markdown",
   "id": "48bb798e-ce87-4e4e-9f07-679f1b2e65fd",
   "metadata": {},
   "source": [
    "<h4>Some of the commonly used libraries used by Data Scientists include:</h4>"
   ]
  },
  {
   "cell_type": "markdown",
   "id": "f17834b9-38cf-48eb-8e62-5832630f1f21",
   "metadata": {},
   "source": [
    "<ul>\n",
    "    <li>NumPy</li>\n",
    "    <li>Matplotlib</li>\n",
    "    <li>Pandas</li>\n",
    "    </ul>"
   ]
  },
  {
   "cell_type": "markdown",
   "id": "b28e5fed-a71b-4db0-a8e5-8ac5fc49035d",
   "metadata": {},
   "source": [
    "<table>\n",
    "  <tr>\n",
    "    <th>Data Science Tools</th>\n",
    "      </tr>\n",
    "      <td>pytorch</td>\n",
    "      <td>Jupyter Notebooks</td>\n",
    "      <td>MLFlow</td>\n",
    "    \n",
    "  \n",
    "  \n",
    "  </table>"
   ]
  },
  {
   "cell_type": "markdown",
   "id": "320941b6-1376-4c6f-9304-bb9ac60575c6",
   "metadata": {},
   "source": [
    "<h3>Below are a few examples of evaluating arithmetic expressions in Python</h3>"
   ]
  },
  {
   "cell_type": "code",
   "execution_count": 2,
   "id": "6134fbcf-3350-48cc-bc82-0041eb0c60b8",
   "metadata": {
    "tags": []
   },
   "outputs": [
    {
     "data": {
      "text/plain": [
       "17"
      ]
     },
     "execution_count": 2,
     "metadata": {},
     "output_type": "execute_result"
    }
   ],
   "source": [
    "# This a simple arithmetic expression to mutiply then add integers.\n",
    "\n",
    "(3*4)+5\n"
   ]
  },
  {
   "cell_type": "code",
   "execution_count": 3,
   "id": "dfaa4cdc-7a0c-4b1c-b850-75f42b102217",
   "metadata": {
    "tags": []
   },
   "outputs": [
    {
     "data": {
      "text/plain": [
       "3.3333333333333335"
      ]
     },
     "execution_count": 3,
     "metadata": {},
     "output_type": "execute_result"
    }
   ],
   "source": [
    "#This will convert 200 minutes to hours by diving by 60\n",
    "200/60"
   ]
  },
  {
   "cell_type": "markdown",
   "id": "8cd88476-a624-405f-a643-8b3ef6385b06",
   "metadata": {},
   "source": [
    "<h2>Author : </h2>\n",
    "abdullah"
   ]
  },
  {
   "cell_type": "code",
   "execution_count": null,
   "id": "a6f0fb74-f2d1-440f-a0be-0bebc2d0c860",
   "metadata": {},
   "outputs": [],
   "source": []
  }
 ],
 "metadata": {
  "kernelspec": {
   "display_name": "Python",
   "language": "python",
   "name": "conda-env-python-py"
  },
  "language_info": {
   "codemirror_mode": {
    "name": "ipython",
    "version": 3
   },
   "file_extension": ".py",
   "mimetype": "text/x-python",
   "name": "python",
   "nbconvert_exporter": "python",
   "pygments_lexer": "ipython3",
   "version": "3.7.12"
  }
 },
 "nbformat": 4,
 "nbformat_minor": 5
}
